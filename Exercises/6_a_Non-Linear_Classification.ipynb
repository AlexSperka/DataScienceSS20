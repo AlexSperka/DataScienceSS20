{
  "nbformat": 4,
  "nbformat_minor": 0,
  "metadata": {
    "kernelspec": {
      "display_name": "Python 3",
      "language": "python",
      "name": "python3"
    },
    "language_info": {
      "codemirror_mode": {
        "name": "ipython",
        "version": 3
      },
      "file_extension": ".py",
      "mimetype": "text/x-python",
      "name": "python",
      "nbconvert_exporter": "python",
      "pygments_lexer": "ipython3",
      "version": "3.7.6"
    },
    "colab": {
      "name": "6_a_Non-Linear_Classification.ipynb",
      "provenance": []
    },
    "accelerator": "GPU"
  },
  "cells": [
    {
      "cell_type": "markdown",
      "metadata": {
        "id": "j66IzagfGxTs",
        "colab_type": "text"
      },
      "source": [
        "# Block 6 Exercise 1: Non-Linear Classification"
      ]
    },
    {
      "cell_type": "markdown",
      "metadata": {
        "id": "6pVo_PoyGxTw",
        "colab_type": "text"
      },
      "source": [
        "## MNIST Data\n",
        "We return to the MNIST data set on handwritten digits to compare non-linear classification algorithms ...   "
      ]
    },
    {
      "cell_type": "code",
      "metadata": {
        "id": "Q0-JPY8LGxTz",
        "colab_type": "code",
        "colab": {}
      },
      "source": [
        "#imports \n",
        "import matplotlib.pyplot as plt\n",
        "import numpy as np\n",
        "from sklearn.datasets import fetch_openml\n",
        "from sklearn.model_selection import KFold, cross_val_score, train_test_split, GridSearchCV\n",
        "from sklearn.preprocessing import StandardScaler\n",
        "from sklearn.pipeline import make_pipeline, Pipeline\n",
        "from sklearn.svm import SVC\n",
        "import pandas as pd\n",
        "import math, time "
      ],
      "execution_count": null,
      "outputs": []
    },
    {
      "cell_type": "code",
      "metadata": {
        "id": "9YojMO99GxUN",
        "colab_type": "code",
        "colab": {}
      },
      "source": [
        "# Load data from https://www.openml.org/d/554\n",
        "X, y = fetch_openml('mnist_784', version=1, return_X_y=True)\n"
      ],
      "execution_count": null,
      "outputs": []
    },
    {
      "cell_type": "code",
      "metadata": {
        "id": "cgYeZKbAGxUc",
        "colab_type": "code",
        "colab": {
          "base_uri": "https://localhost:8080/",
          "height": 35
        },
        "outputId": "3d510aea-828f-4512-ade2-f3c916747776"
      },
      "source": [
        "#the full MNIST data set contains 70k samples of digits 0-9 as 28*28 gray scale images (represented as 784 dim vectors)\n",
        "np.shape(X)"
      ],
      "execution_count": null,
      "outputs": [
        {
          "output_type": "execute_result",
          "data": {
            "text/plain": [
              "(70000, 784)"
            ]
          },
          "metadata": {
            "tags": []
          },
          "execution_count": 3
        }
      ]
    },
    {
      "cell_type": "code",
      "metadata": {
        "id": "xvL6WdF4GxUt",
        "colab_type": "code",
        "colab": {
          "base_uri": "https://localhost:8080/",
          "height": 35
        },
        "outputId": "b9790b3c-61e5-44bb-bbec-74033020ce87"
      },
      "source": [
        "X.min()"
      ],
      "execution_count": null,
      "outputs": [
        {
          "output_type": "execute_result",
          "data": {
            "text/plain": [
              "0.0"
            ]
          },
          "metadata": {
            "tags": []
          },
          "execution_count": 4
        }
      ]
    },
    {
      "cell_type": "code",
      "metadata": {
        "id": "WyPPcj0IGxU5",
        "colab_type": "code",
        "colab": {
          "base_uri": "https://localhost:8080/",
          "height": 35
        },
        "outputId": "75d9b4ed-215e-4d53-ec0e-2a5e214d2c0c"
      },
      "source": [
        "#look at max/min value in the data\n",
        "X.max()"
      ],
      "execution_count": null,
      "outputs": [
        {
          "output_type": "execute_result",
          "data": {
            "text/plain": [
              "255.0"
            ]
          },
          "metadata": {
            "tags": []
          },
          "execution_count": 5
        }
      ]
    },
    {
      "cell_type": "markdown",
      "metadata": {
        "id": "pmcpPjsHGxVJ",
        "colab_type": "text"
      },
      "source": [
        "### E1.1: Cross-Validation and Support Vector Machines\n",
        "Train and optimize  C-SVM classifier on MNIST (https://scikit-learn.org/stable/modules/generated/sklearn.svm.SVC.html#sklearn.svm.SVC)\n",
        "* use a RBF kernel\n",
        "* use *random search* with cross-validation to find the best settings for *gamma* and *C* (https://scikit-learn.org/stable/modules/generated/sklearn.model_selection.RandomizedSearchCV.html#sklearn.model_selection.RandomizedSearchCV)"
      ]
    },
    {
      "cell_type": "code",
      "metadata": {
        "id": "JcDdpok2QA5W",
        "colab_type": "code",
        "colab": {}
      },
      "source": [
        "X= pd.DataFrame(X)\n",
        "y= pd.DataFrame(y)"
      ],
      "execution_count": null,
      "outputs": []
    },
    {
      "cell_type": "code",
      "metadata": {
        "id": "xn2dksemGxVO",
        "colab_type": "code",
        "colab": {}
      },
      "source": [
        "X_tr = X.iloc[:,1:]\n",
        "y_tr = y.iloc[:, 0]"
      ],
      "execution_count": null,
      "outputs": []
    },
    {
      "cell_type": "code",
      "metadata": {
        "id": "oWjXj4CiQcce",
        "colab_type": "code",
        "colab": {}
      },
      "source": [
        "X_train, X_test, y_train, y_test = train_test_split(X_tr,y_tr,test_size=0.2, random_state=30, stratify=y_tr, n_jobs=4,n_iter=20)"
      ],
      "execution_count": null,
      "outputs": []
    },
    {
      "cell_type": "code",
      "metadata": {
        "id": "ca--wYWLRCrr",
        "colab_type": "code",
        "colab": {}
      },
      "source": [
        "steps = [('scaler', StandardScaler()), ('SVM', SVC(kernel='rbf'))]\n",
        "pipeline = Pipeline(steps) # define Pipeline object"
      ],
      "execution_count": null,
      "outputs": []
    },
    {
      "cell_type": "code",
      "metadata": {
        "id": "itVUwVVDRDEi",
        "colab_type": "code",
        "colab": {}
      },
      "source": [
        "parameters = {'SVM__C':[0.001, 0.1, 100, 10e5], 'SVM__gamma':[10,1,0.1,0.01]}\n",
        "grid = GridSearchCV(pipeline, param_grid=parameters, cv=5)"
      ],
      "execution_count": null,
      "outputs": []
    },
    {
      "cell_type": "code",
      "metadata": {
        "id": "PFbRcwMwRDSv",
        "colab_type": "code",
        "colab": {}
      },
      "source": [
        "grid.fit(X_train, y_train) # canceled after 44min...\n",
        "\n",
        "y_pred = grid.predict(X_test)"
      ],
      "execution_count": null,
      "outputs": []
    },
    {
      "cell_type": "code",
      "metadata": {
        "id": "hOsy3zPJRDAv",
        "colab_type": "code",
        "colab": {}
      },
      "source": [
        "#print(\"score = %3.2f\" %(grid.score(X_test, y_test)))\n",
        "print(\"best parameters from train data: \", grid.best_params_)"
      ],
      "execution_count": null,
      "outputs": []
    },
    {
      "cell_type": "code",
      "metadata": {
        "id": "nV7AOj2jRC9H",
        "colab_type": "code",
        "colab": {}
      },
      "source": [
        "print y_pred[100:105]\n",
        "print y_test[100:105]"
      ],
      "execution_count": null,
      "outputs": []
    },
    {
      "cell_type": "code",
      "metadata": {
        "id": "dDVhsdOcRC3v",
        "colab_type": "code",
        "colab": {}
      },
      "source": [
        "for i in (np.random.randint(0,270,6)):\n",
        " two_d = (np.reshape(X_test.values[i], (28, 28)) * 255).astype(np.uint8)\n",
        " plt.title('predicted label: {0}'. format(y_pred[i]))\n",
        " plt.imshow(two_d, interpolation='nearest', cmap='gray')\n",
        " plt.show()"
      ],
      "execution_count": null,
      "outputs": []
    },
    {
      "cell_type": "code",
      "metadata": {
        "id": "RqkFJlVOUcat",
        "colab_type": "code",
        "colab": {}
      },
      "source": [
        "print \"confusion matrix: \\n \", confusion_matrix(y_test, y_pred)"
      ],
      "execution_count": null,
      "outputs": []
    },
    {
      "cell_type": "markdown",
      "metadata": {
        "id": "UFdSVMSVGxVi",
        "colab_type": "text"
      },
      "source": [
        "### E1.2: Pipelines and simple Neural Networks\n",
        "Split the MNIST data into  train- and test-sets and then train and evaluate a simple Multi Layer Perceptron (MLP) network. Since the non-linear activation functions of MLPs are sensitive to the scaling on the input (recall the *sigmoid* function), we need to scale all input values to [0,1] \n",
        "\n",
        "* combine all steps of your training in a SKL pipeline (https://scikit-learn.org/stable/modules/compose.html#pipeline)\n",
        "* use a SKL-scaler to scale the data (https://scikit-learn.org/stable/modules/generated/sklearn.preprocessing.StandardScaler.html)\n",
        "* MLP Parameters: https://scikit-learn.org/stable/modules/generated/sklearn.neural_network.MLPClassifier.html#sklearn.neural_network.MLPClassifier\n",
        "    * use a *SGD* solver\n",
        "    * use *tanh* as activation function\n",
        "    * compare networks with 1, 2 and 3 layers, use different numbers of neurons per layer\n",
        "    * adjust training parameters *alpha* (regularization) and *learning rate* - how sensitive is the model to these parameters?\n",
        "    * Hint: do not change all parameters at the same time, split into several experiments\n",
        "* How hard is it to find the best parameters? How many experiments would you need to find the best parameters?\n",
        "    \n"
      ]
    },
    {
      "cell_type": "code",
      "metadata": {
        "id": "O33ETAbRGxVm",
        "colab_type": "code",
        "colab": {}
      },
      "source": [
        "from sklearn.neural_network import MLPClassifier\n",
        "from sklearn.datasets import make_classification\n",
        "from sklearn.model_selection import train_test_split"
      ],
      "execution_count": null,
      "outputs": []
    },
    {
      "cell_type": "code",
      "metadata": {
        "id": "dFJ-4HI0GxWC",
        "colab_type": "code",
        "colab": {
          "base_uri": "https://localhost:8080/",
          "height": 92
        },
        "outputId": "2ce64003-ba28-421b-a14e-f2a0684c9030"
      },
      "source": [
        "X_train, X_test, y_train, y_test = train_test_split(X, y, stratify=y, random_state=1)\n",
        "clf = MLPClassifier(hidden_layer_sizes=(32,32), random_state=1, max_iter=50, solver='sgd', activation='tanh', alpha=0.0001, learning_rate='constant', learning_rate_init=0.001).fit(X_train, y_train)\n",
        "clf.predict_proba(X_test[:1])\n",
        "clf.predict(X_test[:5, :])\n",
        "clf.score(X_test, y_test)"
      ],
      "execution_count": null,
      "outputs": [
        {
          "output_type": "stream",
          "text": [
            "/usr/local/lib/python3.6/dist-packages/sklearn/neural_network/_multilayer_perceptron.py:571: ConvergenceWarning: Stochastic Optimizer: Maximum iterations (50) reached and the optimization hasn't converged yet.\n",
            "  % self.max_iter, ConvergenceWarning)\n"
          ],
          "name": "stderr"
        },
        {
          "output_type": "execute_result",
          "data": {
            "text/plain": [
              "0.3838857142857143"
            ]
          },
          "metadata": {
            "tags": []
          },
          "execution_count": 15
        }
      ]
    },
    {
      "cell_type": "code",
      "metadata": {
        "id": "izEGHGLGyk4p",
        "colab_type": "code",
        "colab": {}
      },
      "source": [
        "# no stable internet connection... (Unitymedia). Very annoying to try stuff out when it randomly loses connection"
      ],
      "execution_count": null,
      "outputs": []
    },
    {
      "cell_type": "code",
      "metadata": {
        "id": "E4OOBlEUykz4",
        "colab_type": "code",
        "colab": {}
      },
      "source": [
        ""
      ],
      "execution_count": null,
      "outputs": []
    },
    {
      "cell_type": "code",
      "metadata": {
        "id": "PjSf294fykuf",
        "colab_type": "code",
        "colab": {}
      },
      "source": [
        ""
      ],
      "execution_count": null,
      "outputs": []
    }
  ]
}