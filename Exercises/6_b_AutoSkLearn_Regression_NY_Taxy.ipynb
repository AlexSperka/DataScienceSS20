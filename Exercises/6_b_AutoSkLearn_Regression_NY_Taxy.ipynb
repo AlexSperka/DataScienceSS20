{
  "nbformat": 4,
  "nbformat_minor": 0,
  "metadata": {
    "kernelspec": {
      "display_name": "Python 3",
      "language": "python",
      "name": "python3"
    },
    "language_info": {
      "codemirror_mode": {
        "name": "ipython",
        "version": 3
      },
      "file_extension": ".py",
      "mimetype": "text/x-python",
      "name": "python",
      "nbconvert_exporter": "python",
      "pygments_lexer": "ipython3",
      "version": "3.7.6"
    },
    "colab": {
      "name": "6_b_AutoSkLearn_Regression_NY_Taxy.ipynb",
      "provenance": []
    },
    "accelerator": "GPU"
  },
  "cells": [
    {
      "cell_type": "markdown",
      "metadata": {
        "id": "EhZFNXs0mivc",
        "colab_type": "text"
      },
      "source": [
        "# Block 6 Exercise 2: finding the best parameters for predicting the fare of taxi rides\n",
        "We return to our Random Forest Regression and want to automatically optimize all free parameters ..."
      ]
    },
    {
      "cell_type": "code",
      "metadata": {
        "id": "OBLSuAcimivg",
        "colab_type": "code",
        "colab": {}
      },
      "source": [
        "import pandas as pd\n",
        "import numpy as np\n",
        "import folium\n"
      ],
      "execution_count": 0,
      "outputs": []
    },
    {
      "cell_type": "code",
      "metadata": {
        "id": "VezuVgUOmivv",
        "colab_type": "code",
        "colab": {
          "base_uri": "https://localhost:8080/",
          "height": 182
        },
        "outputId": "8661328b-89af-4de9-c6fc-d4d28db60dc8"
      },
      "source": [
        "#check if notebook runs in colab\n",
        "import sys\n",
        "IN_COLAB = 'google.colab' in sys.modules\n",
        "print('running in Colab:',IN_COLAB)\n",
        "path='..'\n",
        "if IN_COLAB:\n",
        "  #in colab, we need to clone the data from the repo\n",
        "  !git clone https://github.com/keuperj/DataScienceSS20.git\n",
        "  path='DataScienceSS20'"
      ],
      "execution_count": 2,
      "outputs": [
        {
          "output_type": "stream",
          "text": [
            "running in Colab: True\n",
            "Cloning into 'DataScienceSS20'...\n",
            "remote: Enumerating objects: 14, done.\u001b[K\n",
            "remote: Counting objects: 100% (14/14), done.\u001b[K\n",
            "remote: Compressing objects: 100% (12/12), done.\u001b[K\n",
            "remote: Total 586 (delta 5), reused 6 (delta 2), pack-reused 572\n",
            "Receiving objects: 100% (586/586), 130.66 MiB | 27.16 MiB/s, done.\n",
            "Resolving deltas: 100% (237/237), done.\n",
            "Checking out files: 100% (219/219), done.\n"
          ],
          "name": "stdout"
        }
      ]
    },
    {
      "cell_type": "code",
      "metadata": {
        "id": "ibyNYYWfmiv7",
        "colab_type": "code",
        "colab": {}
      },
      "source": [
        "# we load the data we have saved after wrangling and pre-processing in block I\n",
        "X=pd.read_csv(path+'/DATA/train_cleaned.csv')\n",
        "drop_columns=['Unnamed: 0','Unnamed: 0.1','Unnamed: 0.1.1','key','pickup_datetime','pickup_date','pickup_latitude_round3','pickup_longitude_round3','dropoff_latitude_round3','dropoff_longitude_round3']\n",
        "X=X.drop(drop_columns,axis=1)\n",
        "X=pd.get_dummies(X)# one hot coding\n",
        "#generate labels\n",
        "y=X['fare_amount']\n",
        "X=X.drop(['fare_amount'],axis=1)"
      ],
      "execution_count": 0,
      "outputs": []
    },
    {
      "cell_type": "markdown",
      "metadata": {
        "id": "94bQ9I5YmiwF",
        "colab_type": "text"
      },
      "source": [
        "### Scikit Optimize\n",
        "Scikit Optimize (https://scikit-optimize.github.io/stable/index.html) is a AutoML toolbox wrapped around Scikit-Learn. It allows us to use state-of-the-art automatic hyper-parameter optimization on top of our learning algorithms.   \n",
        "\n"
      ]
    },
    {
      "cell_type": "code",
      "metadata": {
        "id": "FRffDPbUmiwG",
        "colab_type": "code",
        "colab": {
          "base_uri": "https://localhost:8080/",
          "height": 237
        },
        "outputId": "eeee04be-f4d5-4694-a3e7-897b269c2183"
      },
      "source": [
        "# install \n",
        "!pip install scikit-optimize"
      ],
      "execution_count": 5,
      "outputs": [
        {
          "output_type": "stream",
          "text": [
            "Collecting scikit-optimize\n",
            "\u001b[?25l  Downloading https://files.pythonhosted.org/packages/5c/87/310b52debfbc0cb79764e5770fa3f5c18f6f0754809ea9e2fc185e1b67d3/scikit_optimize-0.7.4-py2.py3-none-any.whl (80kB)\n",
            "\r\u001b[K     |████                            | 10kB 22.9MB/s eta 0:00:01\r\u001b[K     |████████▏                       | 20kB 3.1MB/s eta 0:00:01\r\u001b[K     |████████████▎                   | 30kB 4.1MB/s eta 0:00:01\r\u001b[K     |████████████████▎               | 40kB 4.4MB/s eta 0:00:01\r\u001b[K     |████████████████████▍           | 51kB 3.6MB/s eta 0:00:01\r\u001b[K     |████████████████████████▌       | 61kB 4.0MB/s eta 0:00:01\r\u001b[K     |████████████████████████████▌   | 71kB 4.4MB/s eta 0:00:01\r\u001b[K     |████████████████████████████████| 81kB 3.6MB/s \n",
            "\u001b[?25hRequirement already satisfied: joblib>=0.11 in /usr/local/lib/python3.6/dist-packages (from scikit-optimize) (0.15.1)\n",
            "Requirement already satisfied: numpy>=1.11.0 in /usr/local/lib/python3.6/dist-packages (from scikit-optimize) (1.18.4)\n",
            "Requirement already satisfied: scikit-learn>=0.19.1 in /usr/local/lib/python3.6/dist-packages (from scikit-optimize) (0.22.2.post1)\n",
            "Collecting pyaml>=16.9\n",
            "  Downloading https://files.pythonhosted.org/packages/15/c4/1310a054d33abc318426a956e7d6df0df76a6ddfa9c66f6310274fb75d42/pyaml-20.4.0-py2.py3-none-any.whl\n",
            "Requirement already satisfied: scipy>=0.18.0 in /usr/local/lib/python3.6/dist-packages (from scikit-optimize) (1.4.1)\n",
            "Requirement already satisfied: PyYAML in /usr/local/lib/python3.6/dist-packages (from pyaml>=16.9->scikit-optimize) (3.13)\n",
            "Installing collected packages: pyaml, scikit-optimize\n",
            "Successfully installed pyaml-20.4.0 scikit-optimize-0.7.4\n"
          ],
          "name": "stdout"
        }
      ]
    },
    {
      "cell_type": "markdown",
      "metadata": {
        "id": "zbDS43ZNmiwN",
        "colab_type": "text"
      },
      "source": [
        "### E 2.1 Bayesian Optimization of a Random Forest Regression Model\n",
        "use Bayesian Optimization with Cross-Validation (https://scikit-optimize.github.io/stable/modules/generated/skopt.BayesSearchCV.html#skopt.BayesSearchCV) to find the best regression model. Compare\n",
        "* linear regression (https://scikit-learn.org/stable/modules/generated/sklearn.linear_model.LinearRegression.html#sklearn.linear_model.LinearRegression) \n",
        "* Random Forest regression (https://scikit-learn.org/stable/modules/generated/sklearn.ensemble.RandomForestRegressor.html#sklearn.ensemble.RandomForestRegressor)\n",
        "* and SVM regression (https://scikit-learn.org/stable/modules/generated/sklearn.svm.SVR.html#sklearn.svm.SVR)\n",
        "\n",
        "NOTES: this can become quite compute intensive! Hence,\n",
        "* use a smaller subset of the training data to run the experiments \n",
        "* think about the range of your parameters (e.g. larger number of trees in RF or high C-values in SMV will make models expensive)\n",
        "* optimize only the following parameters per model type:\n",
        "    * linear: no parameters to optimize\n",
        "    * RF: #trees and depth\n",
        "    * SVM: C and gamma (use RBF kernel)\n",
        "* parallelize -> n_jobs\n",
        "* use CoLab to rum the job for up to 12h \n"
      ]
    },
    {
      "cell_type": "code",
      "metadata": {
        "id": "K-vHDvD6miwO",
        "colab_type": "code",
        "colab": {}
      },
      "source": [
        "from skopt import BayesSearchCV\n",
        "from skopt.space import Real, Categorical, Integer\n",
        "from sklearn.linear_model import LinearRegression\n",
        "from sklearn.ensemble import RandomForestRegressor\n",
        "from sklearn.svm import SVR\n",
        "from sklearn.model_selection import train_test_split"
      ],
      "execution_count": 0,
      "outputs": []
    },
    {
      "cell_type": "code",
      "metadata": {
        "id": "klC0RN_zpR_8",
        "colab_type": "code",
        "colab": {}
      },
      "source": [
        "X_train, X_test, y_train, y_test = train_test_split(X,y,test_size=0.2, random_state=30)"
      ],
      "execution_count": 0,
      "outputs": []
    },
    {
      "cell_type": "markdown",
      "metadata": {
        "id": "bVAPl5-9puM2",
        "colab_type": "text"
      },
      "source": [
        ""
      ]
    },
    {
      "cell_type": "code",
      "metadata": {
        "id": "mZ2g_N9LpSMZ",
        "colab_type": "code",
        "colab": {}
      },
      "source": [
        "X_train=np.array(X_train)\n",
        "X_test=np.array(X_test)\n",
        "y_train=np.array(y_train)\n",
        "y_test=np.array(y_test)"
      ],
      "execution_count": 0,
      "outputs": []
    },
    {
      "cell_type": "code",
      "metadata": {
        "id": "_VOLNdxIpSWl",
        "colab_type": "code",
        "colab": {}
      },
      "source": [
        "#fisrt, simple example using only RF\n",
        "opt = BayesSearchCV( \n",
        "         RandomForestRegressor(),\n",
        "         {\n",
        "             'n_estimators':Integer(10,200, prior='log-uniform'),\n",
        "             'max_depth':Integer(2,20,prior='log-uniform')\n",
        "         },\n",
        "         n_iter=32,\n",
        "         random_state=0,\n",
        "         n_jobs=4, #parallelize\n",
        "         cv=5, # set to 5 folds\n",
        "         scoring='neg_mean_squared_error' #eval MSE as before -> see https://scikit-learn.org/stable/modules/model_evaluation.html#scoring-parameter for other scoring methods\n",
        "     )"
      ],
      "execution_count": 0,
      "outputs": []
    },
    {
      "cell_type": "code",
      "metadata": {
        "id": "6utYsDe4pShe",
        "colab_type": "code",
        "colab": {}
      },
      "source": [
        "## SVM\n",
        "steps = [('scaler', StandardScaler()), ('SVM', SVC(kernel='rbf'))]\n",
        "pipeline = Pipeline(steps) # define Pipeline object\n",
        "parameters = {'SVM__C':[0.001, 0.1, 100, 10e5], 'SVM__gamma':[10,1,0.1,0.01]}\n",
        "grid = GridSearchCV(pipeline, param_grid=parameters, cv=5)\n",
        "grid.fit(X_train, y_train) # canceled after 44min...\n",
        "y_pred = grid.predict(X_test)\n",
        "\n",
        "print(\"SVM best score from train data: \", grid.score(X_test, y_test))\n",
        "print(\"SVM best parameters from train data: \", grid.best_params_)"
      ],
      "execution_count": 0,
      "outputs": []
    },
    {
      "cell_type": "code",
      "metadata": {
        "id": "x9M-WJmLrPtf",
        "colab_type": "code",
        "colab": {}
      },
      "source": [
        "from sklearn.ensemble import RandomForestRegressor\n",
        "from sklearn.datasets import make_regression\n",
        "from sklearn.metrics import mean_squared_error, accuracy_score, f1_score"
      ],
      "execution_count": 0,
      "outputs": []
    },
    {
      "cell_type": "code",
      "metadata": {
        "id": "pNKzeuARrni5",
        "colab_type": "code",
        "colab": {
          "base_uri": "https://localhost:8080/",
          "height": 164
        },
        "outputId": "6d33980f-486f-4d06-ccc8-fa5071464025"
      },
      "source": [
        "regr = RandomForestRegressor(max_depth=10, random_state=0, n_jobs=4, n_estimators=10)\n",
        "regr.fit(X_train, y_train)\n",
        "y_predicted = regr.predict(X_test)\n",
        "y_predicted\n",
        "\n",
        "print(\"RF best score from train data: \", regr.score(X_test, y_predicted))\n",
        "print(\"RF best parameters from train data: \", regr.get_params)"
      ],
      "execution_count": 23,
      "outputs": [
        {
          "output_type": "stream",
          "text": [
            "SVM best score from train data:  1.0\n",
            "SVM best parameters from train data:  <bound method BaseEstimator.get_params of RandomForestRegressor(bootstrap=True, ccp_alpha=0.0, criterion='mse',\n",
            "                      max_depth=10, max_features='auto', max_leaf_nodes=None,\n",
            "                      max_samples=None, min_impurity_decrease=0.0,\n",
            "                      min_impurity_split=None, min_samples_leaf=1,\n",
            "                      min_samples_split=2, min_weight_fraction_leaf=0.0,\n",
            "                      n_estimators=10, n_jobs=4, oob_score=False,\n",
            "                      random_state=0, verbose=0, warm_start=False)>\n"
          ],
          "name": "stdout"
        }
      ]
    }
  ]
}