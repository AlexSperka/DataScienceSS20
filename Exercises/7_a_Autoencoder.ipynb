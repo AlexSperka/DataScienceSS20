{
  "nbformat": 4,
  "nbformat_minor": 0,
  "metadata": {
    "colab": {
      "name": "Exercise 1.ipynb",
      "provenance": []
    },
    "kernelspec": {
      "display_name": "Python 3",
      "language": "python",
      "name": "python3"
    },
    "language_info": {
      "codemirror_mode": {
        "name": "ipython",
        "version": 3
      },
      "file_extension": ".py",
      "mimetype": "text/x-python",
      "name": "python",
      "nbconvert_exporter": "python",
      "pygments_lexer": "ipython3",
      "version": "3.7.6"
    },
    "accelerator": "GPU"
  },
  "cells": [
    {
      "cell_type": "markdown",
      "metadata": {
        "colab_type": "text",
        "id": "Nb5B49Gt2Tfr"
      },
      "source": [
        "# Excercise 1: Autoencoder\n",
        "\n",
        "We have allready seen a simple MLP model for **MNIST** classification:"
      ]
    },
    {
      "cell_type": "code",
      "metadata": {
        "colab_type": "code",
        "id": "R0ja22Zw2a08",
        "colab": {
          "base_uri": "https://localhost:8080/",
          "height": 495
        },
        "outputId": "4abd95be-328a-46e6-c37c-84a7982e3023"
      },
      "source": [
        "import numpy as np\n",
        "import tensorflow as tf\n",
        "from tensorflow import keras\n",
        "from tensorflow.keras import layers\n",
        "\n",
        "# Get the data as Numpy arrays\n",
        "(x_train, y_train), (x_test, y_test) = keras.datasets.mnist.load_data()\n",
        "\n",
        "# Build a simple model\n",
        "inputs = keras.Input(shape=(28, 28))\n",
        "l1 = layers.experimental.preprocessing.Rescaling(1.0 / 255)(inputs)\n",
        "l2 = layers.Flatten()(l1)\n",
        "l3 = layers.Dense(128, activation=\"tanh\")(l2)\n",
        "l4 = layers.Dense(128, activation=\"tanh\")(l3)\n",
        "outputs = layers.Dense(10, activation=\"softmax\")(l4)\n",
        "model = keras.Model(inputs, outputs)\n",
        "model.summary()\n",
        "\n",
        "# Compile the model\n",
        "model.compile(optimizer=\"adam\", loss=\"sparse_categorical_crossentropy\")\n",
        "\n",
        "# Train the model for 1 epoch from Numpy data\n",
        "batch_size = 64\n",
        "print(\"Fit on NumPy data\")\n",
        "history = model.fit(x_train, y_train, batch_size=batch_size, epochs=1)\n",
        "\n",
        "# Train the model for 1 epoch using a dataset\n",
        "dataset = tf.data.Dataset.from_tensor_slices((x_train, y_train)).batch(batch_size)\n",
        "print(\"Fit on Dataset\")\n",
        "history = model.fit(dataset, epochs=1)\n"
      ],
      "execution_count": 1,
      "outputs": [
        {
          "output_type": "stream",
          "text": [
            "Downloading data from https://storage.googleapis.com/tensorflow/tf-keras-datasets/mnist.npz\n",
            "11493376/11490434 [==============================] - 0s 0us/step\n",
            "Model: \"model\"\n",
            "_________________________________________________________________\n",
            "Layer (type)                 Output Shape              Param #   \n",
            "=================================================================\n",
            "input_1 (InputLayer)         [(None, 28, 28)]          0         \n",
            "_________________________________________________________________\n",
            "rescaling (Rescaling)        (None, 28, 28)            0         \n",
            "_________________________________________________________________\n",
            "flatten (Flatten)            (None, 784)               0         \n",
            "_________________________________________________________________\n",
            "dense (Dense)                (None, 128)               100480    \n",
            "_________________________________________________________________\n",
            "dense_1 (Dense)              (None, 128)               16512     \n",
            "_________________________________________________________________\n",
            "dense_2 (Dense)              (None, 10)                1290      \n",
            "=================================================================\n",
            "Total params: 118,282\n",
            "Trainable params: 118,282\n",
            "Non-trainable params: 0\n",
            "_________________________________________________________________\n",
            "Fit on NumPy data\n",
            "938/938 [==============================] - 2s 2ms/step - loss: 0.2807\n",
            "Fit on Dataset\n",
            "938/938 [==============================] - 2s 2ms/step - loss: 0.1366\n"
          ],
          "name": "stdout"
        }
      ]
    },
    {
      "cell_type": "markdown",
      "metadata": {
        "colab_type": "text",
        "id": "1X8K2JP13RoC"
      },
      "source": [
        "Now we want to change this model and build an **autoencoder** for **MNIST**:\n",
        "\n",
        "**1. change the network topology:** \n",
        "* use 5 dense layers to form \"bottleneck\" network (see lecture). \n",
        "* Layers 1+2 should be the encoder, 3 the lattent layer aner 4+5 the decoder\n",
        "* remove the softmax (we are not doing a classification anymore)\n",
        "\n",
        "**2. change the loss-function to compare input and output -> choose a suitable loss from https://keras.io/api/losses/**\n",
        "\n",
        "**3. train the model**\n",
        "\n",
        "**4. test the model**\n",
        "* visualize input and output images to inspect the reconstruction quallity (use MATPLOTLIB *imshow*)\n",
        "* implement a function to measure the reconstrunction error between in- and output\n",
        "* change network size (number of neurons per layer) and training paramters to optimize the ressults \n",
        "\n",
        "**5. Outlier detection**\n",
        "* plot a histogram over the the recostruction errors\n",
        "* find a cutoff value and visualize the outliers"
      ]
    },
    {
      "cell_type": "code",
      "metadata": {
        "colab_type": "code",
        "id": "2BRusC-Z2yjD",
        "colab": {
          "base_uri": "https://localhost:8080/",
          "height": 384
        },
        "outputId": "a68b1d3f-43fe-4996-b120-7b85d0edbc49"
      },
      "source": [
        "# Get the data as Numpy arrays\n",
        "(x_train, y_train), (x_test, y_test) = keras.datasets.mnist.load_data()\n",
        "\n",
        "# Build a simple model\n",
        "inputs = keras.Input(shape=(784, ))\n",
        "#inputs = keras.Input(shape=(784, 0))\n",
        "l1 = layers.Dense(70, activation = \"relu\")(inputs)\n",
        "l2 = layers.Dense(30, activation = \"relu\")(l1)\n",
        "l3 = layers.Dense(30, activation=\"tanh\")(l2)\n",
        "l4 = layers.Dense(70, activation=\"tanh\")(l3)\n",
        "#outputs = layers.Dense((28,28), activation=\"sigmoid\")(l4) ## didnt work in 2D\n",
        "\n",
        "outputs = layers.Dense(784, activation=\"sigmoid\")(l4)\n",
        "\n",
        "model = keras.Model(inputs, outputs)\n",
        "model.summary()"
      ],
      "execution_count": 72,
      "outputs": [
        {
          "output_type": "stream",
          "text": [
            "Model: \"model_10\"\n",
            "_________________________________________________________________\n",
            "Layer (type)                 Output Shape              Param #   \n",
            "=================================================================\n",
            "input_12 (InputLayer)        [(None, 784)]             0         \n",
            "_________________________________________________________________\n",
            "dense_50 (Dense)             (None, 70)                54950     \n",
            "_________________________________________________________________\n",
            "dense_51 (Dense)             (None, 30)                2130      \n",
            "_________________________________________________________________\n",
            "dense_52 (Dense)             (None, 30)                930       \n",
            "_________________________________________________________________\n",
            "dense_53 (Dense)             (None, 70)                2170      \n",
            "_________________________________________________________________\n",
            "dense_54 (Dense)             (None, 784)               55664     \n",
            "=================================================================\n",
            "Total params: 115,844\n",
            "Trainable params: 115,844\n",
            "Non-trainable params: 0\n",
            "_________________________________________________________________\n"
          ],
          "name": "stdout"
        }
      ]
    },
    {
      "cell_type": "code",
      "metadata": {
        "id": "MwFouj2ZxZPx",
        "colab_type": "code",
        "colab": {}
      },
      "source": [
        "# pass optimizer by name: default parameters will be used\n",
        "# loss_fn = keras.losses.SparseCategoricalCrossentropy(from_logits=True)\n",
        "\n",
        "#loss_fn = keras.losses.SparseCategoricalCrossentropy()\n",
        "\n",
        "# model.compile(loss='sparse_categorical_crossenropy', optimizer='adam') ### ValueError: Shape mismatch: The shape of labels (received (25088,)) should equal the shape of logits except for the last dimension (received (32, 784)).\n",
        "# model.compile(loss=loss_fn, optimizer='adam')  ## just tested the example code\n",
        "\n",
        "#model.compile(optimizer='sgd', loss=tf.keras.losses.BinaryCrossentropy())\n",
        "\n",
        "model.compile(loss='mse', optimizer='adam', metrics=['mse', 'mae', 'mape'])\n",
        "\n",
        "#opt = keras.optimizers.Adam(learning_rate=0.01)\n",
        "#model.compile(optimizer=opt, loss=\"binary_crossentropy\") #using mean squared error is also an option"
      ],
      "execution_count": 73,
      "outputs": []
    },
    {
      "cell_type": "code",
      "metadata": {
        "id": "GNZS0c9YyppA",
        "colab_type": "code",
        "colab": {}
      },
      "source": [
        "(x_train, y_train), (x_test, y_test) = keras.datasets.mnist.load_data()\n",
        "\n",
        "x_train = x_train.astype('float32') / 255.\n",
        "x_test = x_test.astype('float32') / 255.\n",
        "x_train = x_train.reshape((len(x_train), np.prod(x_train.shape[1:])))\n",
        "x_test = x_test.reshape((len(x_test), np.prod(x_test.shape[1:])))"
      ],
      "execution_count": 74,
      "outputs": []
    },
    {
      "cell_type": "code",
      "metadata": {
        "id": "mPvxk1lIypxb",
        "colab_type": "code",
        "colab": {
          "base_uri": "https://localhost:8080/",
          "height": 384
        },
        "outputId": "8b242b99-75a3-4fdb-84d8-94c0c8e16421"
      },
      "source": [
        "history = model.fit(x_train, x_train, epochs=10, batch_size=32, verbose=2 )"
      ],
      "execution_count": 76,
      "outputs": [
        {
          "output_type": "stream",
          "text": [
            "Epoch 1/10\n",
            "1875/1875 - 4s - loss: 0.0133 - mse: 0.0133 - mae: 0.0443 - mape: 11642051.0000\n",
            "Epoch 2/10\n",
            "1875/1875 - 4s - loss: 0.0128 - mse: 0.0128 - mae: 0.0430 - mape: 11013099.0000\n",
            "Epoch 3/10\n",
            "1875/1875 - 4s - loss: 0.0125 - mse: 0.0125 - mae: 0.0420 - mape: 10535864.0000\n",
            "Epoch 4/10\n",
            "1875/1875 - 4s - loss: 0.0122 - mse: 0.0122 - mae: 0.0412 - mape: 10161181.0000\n",
            "Epoch 5/10\n",
            "1875/1875 - 4s - loss: 0.0120 - mse: 0.0120 - mae: 0.0405 - mape: 9856302.0000\n",
            "Epoch 6/10\n",
            "1875/1875 - 4s - loss: 0.0118 - mse: 0.0118 - mae: 0.0400 - mape: 9587260.0000\n",
            "Epoch 7/10\n",
            "1875/1875 - 4s - loss: 0.0116 - mse: 0.0116 - mae: 0.0395 - mape: 9377065.0000\n",
            "Epoch 8/10\n",
            "1875/1875 - 4s - loss: 0.0115 - mse: 0.0115 - mae: 0.0391 - mape: 9166928.0000\n",
            "Epoch 9/10\n",
            "1875/1875 - 4s - loss: 0.0114 - mse: 0.0114 - mae: 0.0387 - mape: 9000714.0000\n",
            "Epoch 10/10\n",
            "1875/1875 - 4s - loss: 0.0112 - mse: 0.0112 - mae: 0.0384 - mape: 8833849.0000\n"
          ],
          "name": "stdout"
        }
      ]
    },
    {
      "cell_type": "code",
      "metadata": {
        "id": "6Me02Kptyp3e",
        "colab_type": "code",
        "colab": {}
      },
      "source": [
        "prediction = model.predict(x_train)"
      ],
      "execution_count": 77,
      "outputs": []
    },
    {
      "cell_type": "code",
      "metadata": {
        "id": "Lw3cgQP22Gda",
        "colab_type": "code",
        "colab": {
          "base_uri": "https://localhost:8080/",
          "height": 248
        },
        "outputId": "b8b7613f-89ac-4643-a044-295884ab3c41"
      },
      "source": [
        "import matplotlib.pyplot as plt\n",
        "\n",
        "n = 10  # how many digits we will display\n",
        "plt.figure(figsize=(20, 4))\n",
        "for i in range(n):\n",
        "    # display original\n",
        "    ax = plt.subplot(2, n, i + 1)\n",
        "    plt.imshow(x_train[i].reshape(28, 28))\n",
        "    plt.gray()\n",
        "    ax.get_xaxis().set_visible(False)\n",
        "    ax.get_yaxis().set_visible(False)\n",
        "\n",
        "    # display reconstruction\n",
        "    ax = plt.subplot(2, n, i + 1 + n)\n",
        "    plt.imshow(prediction[i].reshape(28, 28))\n",
        "    plt.gray()\n",
        "    ax.get_xaxis().set_visible(False)\n",
        "    ax.get_yaxis().set_visible(False)\n",
        "plt.show()"
      ],
      "execution_count": 78,
      "outputs": [
        {
          "output_type": "display_data",
          "data": {
            "image/png": "[encoded data removed]",
            "text/plain": [
              "<Figure size 1440x288 with 20 Axes>"
            ]
          },
          "metadata": {
            "tags": [],
            "needs_background": "light"
          }
        }
      ]
    },
    {
      "cell_type": "code",
      "metadata": {
        "id": "_mTNbSRz2lHd",
        "colab_type": "code",
        "colab": {
          "base_uri": "https://localhost:8080/",
          "height": 54
        },
        "outputId": "fee4a3bd-ba04-4598-b6e2-48349efdf3f6"
      },
      "source": [
        "scores = model.evaluate(x_train, x_train, verbose=1)\n",
        "print(\"Accuracy: %.2f%%\", (scores[1]*100))"
      ],
      "execution_count": 83,
      "outputs": [
        {
          "output_type": "stream",
          "text": [
            "1875/1875 [==============================] - 4s 2ms/step - loss: 0.0111 - mse: 0.0111 - mae: 0.0382 - mape: 8830735.0000\n",
            "Accuracy: %.2f%% 1.111923437565565\n"
          ],
          "name": "stdout"
        }
      ]
    },
    {
      "cell_type": "code",
      "metadata": {
        "id": "tPmNqxo23lso",
        "colab_type": "code",
        "colab": {
          "base_uri": "https://localhost:8080/",
          "height": 294
        },
        "outputId": "bc303bff-b01d-48bc-944d-7c93b2038c56"
      },
      "source": [
        "from matplotlib import pyplot\n",
        "from numpy import array\n",
        "from keras.models import Sequential\n",
        "# plot metrics ## https://machinelearningmastery.com/custom-metrics-deep-learning-keras-python/\n",
        "pyplot.plot(history.history['mse']) ## Mean Squared Error\n",
        "pyplot.plot(history.history['mae']) ## Mean absolute error\n",
        "pyplot.plot(history.history['mape']) ## mean absolute percentage error"
      ],
      "execution_count": 81,
      "outputs": [
        {
          "output_type": "execute_result",
          "data": {
            "text/plain": [
              "[<matplotlib.lines.Line2D at 0x7fa35516d0b8>]"
            ]
          },
          "metadata": {
            "tags": []
          },
          "execution_count": 81
        },
        {
          "output_type": "display_data",
          "data": {
            "image/png": "[encoded data removed]",
            "text/plain": [
              "<Figure size 432x288 with 1 Axes>"
            ]
          },
          "metadata": {
            "tags": [],
            "needs_background": "light"
          }
        }
      ]
    },
    {
      "cell_type": "code",
      "metadata": {
        "id": "7-QRDADS2Vnx",
        "colab_type": "code",
        "colab": {}
      },
      "source": [
        "#error = np.sum(np.abs(x_test-prediction),axis=1) ## operands could not be broadcast together with shapes (10000,784) (60000,784)"
      ],
      "execution_count": 82,
      "outputs": []
    },
    {
      "cell_type": "code",
      "metadata": {
        "id": "wBcMefjE38Na",
        "colab_type": "code",
        "colab": {}
      },
      "source": [
        ""
      ],
      "execution_count": null,
      "outputs": []
    }
  ]
}